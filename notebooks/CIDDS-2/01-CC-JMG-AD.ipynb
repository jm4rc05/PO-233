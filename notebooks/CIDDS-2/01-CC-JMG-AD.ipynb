{
 "cells": [
  {
   "cell_type": "code",
   "execution_count": 1,
   "id": "harmful-philip",
   "metadata": {
    "tags": []
   },
   "outputs": [],
   "source": [
    "import sys\n",
    "import numpy as np\n",
    "import pandas as pd\n",
    "from scipy import stats as st"
   ]
  },
  {
   "cell_type": "code",
   "execution_count": null,
   "id": "68401575-53db-4a84-9c8f-110cf1219b94",
   "metadata": {},
   "outputs": [
    {
     "data": {
      "text/plain": [
       "'internal-week1'"
      ]
     },
     "metadata": {},
     "output_type": "display_data"
    },
    {
     "data": {
      "text/plain": [
       "(8451520, 16)"
      ]
     },
     "metadata": {},
     "output_type": "display_data"
    },
    {
     "data": {
      "text/plain": [
       "Date first seen      datetime64[ns]\n",
       "DURATION                    float64\n",
       "PROTOCOL                     object\n",
       "SRC_IP                       object\n",
       "SRC_PT                        int64\n",
       "DST_IP                       object\n",
       "DST_PT                      float64\n",
       "PACKETS                       int64\n",
       "BYTES                        object\n",
       "Flows                         int64\n",
       "FLAGS                        object\n",
       "Tos                           int64\n",
       "CLASS                        object\n",
       "attackType                   object\n",
       "attackID                     object\n",
       "attackDescription            object\n",
       "dtype: object"
      ]
     },
     "metadata": {},
     "output_type": "display_data"
    },
    {
     "data": {
      "text/plain": [
       "'--------------------------------------------------------------------------------'"
      ]
     },
     "metadata": {},
     "output_type": "display_data"
    },
    {
     "data": {
      "text/plain": [
       "'DURATION'"
      ]
     },
     "metadata": {},
     "output_type": "display_data"
    },
    {
     "data": {
      "text/plain": [
       "'--------------------------------------------------------------------------------'"
      ]
     },
     "metadata": {},
     "output_type": "display_data"
    },
    {
     "data": {
      "text/plain": [
       "array([0.14857404, 0.14857404, 0.14336821, ..., 0.14857404, 0.14857404,\n",
       "       0.14597112])"
      ]
     },
     "metadata": {},
     "output_type": "display_data"
    },
    {
     "data": {
      "text/plain": [
       "0.000     4284531\n",
       "0.003      360724\n",
       "0.004      353325\n",
       "0.002      289608\n",
       "0.005      273727\n",
       "           ...   \n",
       "23.456          1\n",
       "6.590           1\n",
       "12.857          1\n",
       "8.892           1\n",
       "5.304           1\n",
       "Name: DURATION, Length: 9366, dtype: int64"
      ]
     },
     "metadata": {},
     "output_type": "display_data"
    },
    {
     "data": {
      "text/plain": [
       "array([0.0000e+00, 4.0000e-03, 8.2000e-02, ..., 1.0060e+01, 4.2555e+01,\n",
       "       9.9150e+00])"
      ]
     },
     "metadata": {},
     "output_type": "display_data"
    },
    {
     "data": {
      "text/plain": [
       "'================================================================================'"
      ]
     },
     "metadata": {},
     "output_type": "display_data"
    },
    {
     "data": {
      "text/plain": [
       "'--------------------------------------------------------------------------------'"
      ]
     },
     "metadata": {},
     "output_type": "display_data"
    },
    {
     "data": {
      "text/plain": [
       "'PROTOCOL'"
      ]
     },
     "metadata": {},
     "output_type": "display_data"
    }
   ],
   "source": [
    "# Arquivo de dados\n",
    "data_sets = [\n",
    "    ('internal-week1'),\n",
    "#     ('internal-week2'),\n",
    "#     ('internal-week3'), # não tem classes variadas (só 1=normal)\n",
    "#     ('internal-week4'), # não tem classes variadas (só 1=normal)\n",
    "    \n",
    "#     ('external-week1'),\n",
    "#     ('external-week2'),    \n",
    "#     ('external-week3'),\n",
    "#     ('external-week4'),\n",
    "]\n",
    "\n",
    "for data_set in data_sets:\n",
    "    display(data_set)\n",
    "        \n",
    "    df = pd.read_csv(f'./data/CIDDS-001-{data_set}.csv', dtype = {\n",
    "            'Date first seen': 'object',\n",
    "            'Duration': 'float64',\n",
    "            'Proto': 'object',\n",
    "            'Src IP Addr': 'object',\n",
    "            'Src Pt': 'int64',\n",
    "            'Dst IP Addr': 'object',\n",
    "            'Dst Pt': 'float64',\n",
    "            'Packets': 'int64',\n",
    "            'Bytes': 'object',\n",
    "            'Flows': 'int64',\n",
    "            'Flags': 'object',\n",
    "            'Tos': 'int64',\n",
    "            'class': 'object',\n",
    "            'attackType': 'object',\n",
    "            'attackID': 'object',\n",
    "            'attackDescription': 'object',\n",
    "        }, parse_dates=['Date first seen'])\n",
    "    df = df.rename(columns = {\n",
    "        'Duration': 'DURATION',\n",
    "        'Proto': 'PROTOCOL',\n",
    "        'Src IP Addr': 'SRC_IP',\n",
    "        'Src Pt': 'SRC_PT',\n",
    "        'Dst IP Addr': 'DST_IP',\n",
    "        'Dst Pt': 'DST_PT',\n",
    "        'Packets': 'PACKETS',\n",
    "        'Bytes': 'BYTES',\n",
    "        'Flags': 'FLAGS',\n",
    "        'class': 'CLASS',\n",
    "    })\n",
    "\n",
    "    display(df.shape)\n",
    "    display(df.dtypes)\n",
    "    \n",
    "    # Qualitativo nominais\n",
    "#     display('='*80)\n",
    "#     for attribute in df:\n",
    "#         display(attribute, pd.unique(df[attribute]))\n",
    "#         display('-'*80)\n",
    "#     display('='*80)\n",
    "#     display(df.nunique())\n",
    "#     display('='*80)\n",
    "    \n",
    "    # Valores únicos, moda e frequência\n",
    "    stats = pd.DataFrame(columns = [])\n",
    "    row_index = 0\n",
    "    for attribute in df.drop(['Date first seen'], axis = 1):\n",
    "        display('-'*80)\n",
    "        display(attribute)\n",
    "        display('-'*80)\n",
    "\n",
    "        stats.loc[row_index, 'Feature'] = attribute\n",
    "        \n",
    "        display(df[attribute].value_counts())\n",
    "        display(pd.unique(df[attribute]))\n",
    "        display('='*80)\n",
    "        \n",
    "        row_index += 1\n",
    "        \n",
    "    display(stats)\n",
    "\n",
    "    moda = df.mode()\n",
    "    moda.fillna(0, inplace = True)\n",
    "    moda.to_csv(f'./results/reports/CIDDS-001-{data_set}-stats-moda.csv')\n",
    "    moda.to_latex(f'./results/reports/CIDDS-001-{data_set}-stats-moda.tex')\n",
    "\n",
    "    kurt = df.kurt()\n",
    "    kurt.fillna(0, inplace = True)\n",
    "    kurt.to_csv(f'./results/reports/CIDDS-001-{data_set}-stats-kurt.csv')\n",
    "    kurt.to_latex(f'./results/reports/CIDDS-001-{data_set}-stats-kurt.tex')\n",
    "\n",
    "    skew = df.skew()\n",
    "    skew.fillna(0, inplace = True)\n",
    "    skew.to_csv(f'./results/reports/CIDDS-001-{data_set}-stats-skew.csv')\n",
    "    skew.to_latex(f'./results/reports/CIDDS-001-{data_set}-stats-skew.tex')\n",
    "    \n",
    "    stats.to_csv(f'./results/reports/CIDDS-001-{data_set}-stats.csv')\n",
    "    stats.to_latex(f'./results/reports/CIDDS-001-{data_set}-stats.tex')"
   ]
  },
  {
   "cell_type": "markdown",
   "id": "structural-vitamin",
   "metadata": {},
   "source": [
    "> End"
   ]
  }
 ],
 "metadata": {
  "kernelspec": {
   "display_name": "Python 3",
   "language": "python",
   "name": "python3"
  },
  "language_info": {
   "codemirror_mode": {
    "name": "ipython",
    "version": 3
   },
   "file_extension": ".py",
   "mimetype": "text/x-python",
   "name": "python",
   "nbconvert_exporter": "python",
   "pygments_lexer": "ipython3",
   "version": "3.8.2"
  }
 },
 "nbformat": 4,
 "nbformat_minor": 5
}
