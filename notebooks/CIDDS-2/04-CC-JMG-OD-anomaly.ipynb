{
 "cells": [
  {
   "cell_type": "code",
   "execution_count": 1,
   "metadata": {
    "colab": {
     "base_uri": "https://localhost:8080/",
     "height": 260
    },
    "colab_type": "code",
    "id": "gxBgvhA4mowO",
    "outputId": "9d831709-2f9c-4bf7-a790-0972691dd4fb",
    "tags": []
   },
   "outputs": [],
   "source": [
    "import pandas as pd\n",
    "import numpy as np\n",
    "import pickle\n",
    "import matplotlib.pyplot as plt\n",
    "import seaborn as sns\n",
    "\n",
    "from pycm import ConfusionMatrix as cm\n",
    "from pycm import Compare as cp\n",
    "\n",
    "from sklearn import model_selection\n",
    "from sklearn.metrics import auc, roc_curve\n",
    "\n",
    "from pyod.models.abod import ABOD\n",
    "from pyod.models.auto_encoder import AutoEncoder\n",
    "from pyod.models.cblof import CBLOF\n",
    "from pyod.models.cof import COF\n",
    "from pyod.models.copod import COPOD\n",
    "from pyod.models.feature_bagging import FeatureBagging\n",
    "from pyod.models.hbos import HBOS\n",
    "from pyod.models.iforest import IForest\n",
    "from pyod.models.knn import KNN\n",
    "from pyod.models.lmdd import LMDD\n",
    "from pyod.models.loda import LODA\n",
    "from pyod.models.lof import LOF\n",
    "from pyod.models.loci import LOCI\n",
    "from pyod.models.lscp import LSCP\n",
    "from pyod.models.mad import MAD\n",
    "from pyod.models.mcd import MCD\n",
    "from pyod.models.mo_gaal import MO_GAAL\n",
    "from pyod.models.ocsvm import OCSVM\n",
    "from pyod.models.pca import PCA\n",
    "from pyod.models.rod import ROD\n",
    "from pyod.models.sod import SOD\n",
    "from pyod.models.so_gaal import SO_GAAL\n",
    "from pyod.models.sos import SOS\n",
    "from pyod.models.vae import VAE\n",
    "from pyod.models.xgbod import XGBOD\n",
    "\n",
    "MODALIDADE = 'analise-anomalias'"
   ]
  },
  {
   "cell_type": "code",
   "execution_count": null,
   "metadata": {
    "colab": {},
    "colab_type": "code",
    "id": "il0LFdCFJEsw",
    "tags": []
   },
   "outputs": [
    {
     "data": {
      "text/plain": [
       "'Auto Encoder layers 1: [9, 512, 9]'"
      ]
     },
     "metadata": {},
     "output_type": "display_data"
    },
    {
     "data": {
      "text/plain": [
       "'Auto Encoder layers 2: [9, 1024, 9]'"
      ]
     },
     "metadata": {},
     "output_type": "display_data"
    },
    {
     "data": {
      "text/plain": [
       "'Auto Encoder layers 3: [9, 2048, 9]'"
      ]
     },
     "metadata": {},
     "output_type": "display_data"
    },
    {
     "data": {
      "text/plain": [
       "'Variational Auto Encoder layers 1: [9, 256, 128, 32, 9] / [9, 32, 128, 256, 9]'"
      ]
     },
     "metadata": {},
     "output_type": "display_data"
    },
    {
     "data": {
      "text/plain": [
       "'Variational Auto Encoder layers 2: [9, 512, 256, 128, 9] / [9, 128, 256, 512, 9]'"
      ]
     },
     "metadata": {},
     "output_type": "display_data"
    },
    {
     "data": {
      "text/plain": [
       "'Variational Auto Encoder layers 3: [9, 1024, 512, 256, 9] / [9, 256, 512, 1024, 9]'"
      ]
     },
     "metadata": {},
     "output_type": "display_data"
    },
    {
     "data": {
      "text/plain": [
       "'external-week2'"
      ]
     },
     "metadata": {},
     "output_type": "display_data"
    },
    {
     "data": {
      "text/plain": [
       "'Classe de Treinamento'"
      ]
     },
     "metadata": {},
     "output_type": "display_data"
    },
    {
     "data": {
      "text/plain": [
       "CLASS\n",
       "1        20962\n",
       "0         4538\n",
       "dtype: int64"
      ]
     },
     "metadata": {},
     "output_type": "display_data"
    },
    {
     "data": {
      "text/plain": [
       "'Classe de Teste'"
      ]
     },
     "metadata": {},
     "output_type": "display_data"
    },
    {
     "data": {
      "text/plain": [
       "CLASS\n",
       "1        5226\n",
       "0        1149\n",
       "dtype: int64"
      ]
     },
     "metadata": {},
     "output_type": "display_data"
    },
    {
     "data": {
      "text/plain": [
       "'Feature Bagging - external-week2'"
      ]
     },
     "metadata": {},
     "output_type": "display_data"
    },
    {
     "name": "stderr",
     "output_type": "stream",
     "text": [
      "/Users/marcos/.pyenv/versions/3.8.2/lib/python3.8/site-packages/pycm/pycm_obj.py:939: MatplotlibDeprecationWarning: \n",
      "The set_window_title function was deprecated in Matplotlib 3.4 and will be removed two minor releases later. Use manager.set_window_title or GUI-specific methods instead.\n",
      "  fig.canvas.set_window_title(title)\n"
     ]
    },
    {
     "data": {
      "text/plain": [
       "'Isolation Forest - external-week2'"
      ]
     },
     "metadata": {},
     "output_type": "display_data"
    },
    {
     "name": "stderr",
     "output_type": "stream",
     "text": [
      "/Users/marcos/.pyenv/versions/3.8.2/lib/python3.8/site-packages/pycm/pycm_obj.py:939: MatplotlibDeprecationWarning: \n",
      "The set_window_title function was deprecated in Matplotlib 3.4 and will be removed two minor releases later. Use manager.set_window_title or GUI-specific methods instead.\n",
      "  fig.canvas.set_window_title(title)\n"
     ]
    },
    {
     "data": {
      "text/plain": [
       "'Lightweight On-line Detector of Anomalies - external-week2'"
      ]
     },
     "metadata": {},
     "output_type": "display_data"
    },
    {
     "name": "stderr",
     "output_type": "stream",
     "text": [
      "/Users/marcos/.pyenv/versions/3.8.2/lib/python3.8/site-packages/pycm/pycm_obj.py:939: MatplotlibDeprecationWarning: \n",
      "The set_window_title function was deprecated in Matplotlib 3.4 and will be removed two minor releases later. Use manager.set_window_title or GUI-specific methods instead.\n",
      "  fig.canvas.set_window_title(title)\n"
     ]
    },
    {
     "data": {
      "text/plain": [
       "'Locally Selective Combination of Parallel Outlier Ensembles - external-week2'"
      ]
     },
     "metadata": {},
     "output_type": "display_data"
    },
    {
     "name": "stderr",
     "output_type": "stream",
     "text": [
      "/Users/marcos/.pyenv/versions/3.8.2/lib/python3.8/site-packages/scipy/stats/stats.py:3913: PearsonRConstantInputWarning: An input array is constant; the correlation coefficent is not defined.\n",
      "  warnings.warn(PearsonRConstantInputWarning())\n",
      "/Users/marcos/.pyenv/versions/3.8.2/lib/python3.8/site-packages/scipy/stats/stats.py:3943: PearsonRNearConstantInputWarning: An input array is nearly constant; the computed correlation coefficent may be inaccurate.\n",
      "  warnings.warn(PearsonRNearConstantInputWarning())\n",
      "/Users/marcos/.pyenv/versions/3.8.2/lib/python3.8/site-packages/scipy/stats/stats.py:3913: PearsonRConstantInputWarning: An input array is constant; the correlation coefficent is not defined.\n",
      "  warnings.warn(PearsonRConstantInputWarning())\n",
      "/Users/marcos/.pyenv/versions/3.8.2/lib/python3.8/site-packages/scipy/stats/stats.py:3943: PearsonRNearConstantInputWarning: An input array is nearly constant; the computed correlation coefficent may be inaccurate.\n",
      "  warnings.warn(PearsonRNearConstantInputWarning())\n",
      "/Users/marcos/.pyenv/versions/3.8.2/lib/python3.8/site-packages/pycm/pycm_obj.py:939: MatplotlibDeprecationWarning: \n",
      "The set_window_title function was deprecated in Matplotlib 3.4 and will be removed two minor releases later. Use manager.set_window_title or GUI-specific methods instead.\n",
      "  fig.canvas.set_window_title(title)\n"
     ]
    },
    {
     "data": {
      "image/png": "[encoded data removed]",
      "text/plain": [
       "<Figure size 432x288 with 2 Axes>"
      ]
     },
     "metadata": {
      "needs_background": "light"
     },
     "output_type": "display_data"
    },
    {
     "data": {
      "image/png": "[encoded data removed]",
      "text/plain": [
       "<Figure size 432x288 with 2 Axes>"
      ]
     },
     "metadata": {
      "needs_background": "light"
     },
     "output_type": "display_data"
    },
    {
     "data": {
      "image/png": "[encoded data removed]",
      "text/plain": [
       "<Figure size 432x288 with 2 Axes>"
      ]
     },
     "metadata": {
      "needs_background": "light"
     },
     "output_type": "display_data"
    },
    {
     "data": {
      "image/png": "[encoded data removed]",
      "text/plain": [
       "<Figure size 432x288 with 2 Axes>"
      ]
     },
     "metadata": {
      "needs_background": "light"
     },
     "output_type": "display_data"
    },
    {
     "name": "stderr",
     "output_type": "stream",
     "text": [
      "/Users/marcos/.pyenv/versions/3.8.2/lib/python3.8/site-packages/pyod/models/base.py:348: UserWarning: y should not be presented in unsupervised learning.\n",
      "  warnings.warn(\n",
      "/Users/marcos/.pyenv/versions/3.8.2/lib/python3.8/site-packages/pyod/models/base.py:348: UserWarning: y should not be presented in unsupervised learning.\n",
      "  warnings.warn(\n",
      "/Users/marcos/.pyenv/versions/3.8.2/lib/python3.8/site-packages/pyod/models/base.py:348: UserWarning: y should not be presented in unsupervised learning.\n",
      "  warnings.warn(\n",
      "/Users/marcos/.pyenv/versions/3.8.2/lib/python3.8/site-packages/pyod/models/base.py:348: UserWarning: y should not be presented in unsupervised learning.\n",
      "  warnings.warn(\n",
      "/Users/marcos/.pyenv/versions/3.8.2/lib/python3.8/site-packages/scipy/stats/stats.py:3913: PearsonRConstantInputWarning: An input array is constant; the correlation coefficent is not defined.\n",
      "  warnings.warn(PearsonRConstantInputWarning())\n",
      "/Users/marcos/.pyenv/versions/3.8.2/lib/python3.8/site-packages/scipy/stats/stats.py:3943: PearsonRNearConstantInputWarning: An input array is nearly constant; the computed correlation coefficent may be inaccurate.\n",
      "  warnings.warn(PearsonRNearConstantInputWarning())\n",
      "/Users/marcos/.pyenv/versions/3.8.2/lib/python3.8/site-packages/scipy/stats/stats.py:3913: PearsonRConstantInputWarning: An input array is constant; the correlation coefficent is not defined.\n",
      "  warnings.warn(PearsonRConstantInputWarning())\n"
     ]
    },
    {
     "data": {
      "image/png": "[encoded data removed]",
      "text/plain": [
       "<Figure size 432x288 with 1 Axes>"
      ]
     },
     "metadata": {
      "needs_background": "light"
     },
     "output_type": "display_data"
    },
    {
     "name": "stderr",
     "output_type": "stream",
     "text": [
      "/Users/marcos/.pyenv/versions/3.8.2/lib/python3.8/site-packages/pyod/models/base.py:348: UserWarning: y should not be presented in unsupervised learning.\n",
      "  warnings.warn(\n",
      "/Users/marcos/.pyenv/versions/3.8.2/lib/python3.8/site-packages/pyod/models/base.py:348: UserWarning: y should not be presented in unsupervised learning.\n",
      "  warnings.warn(\n",
      "/Users/marcos/.pyenv/versions/3.8.2/lib/python3.8/site-packages/pyod/models/base.py:348: UserWarning: y should not be presented in unsupervised learning.\n",
      "  warnings.warn(\n",
      "/Users/marcos/.pyenv/versions/3.8.2/lib/python3.8/site-packages/pyod/models/base.py:348: UserWarning: y should not be presented in unsupervised learning.\n",
      "  warnings.warn(\n",
      "/Users/marcos/.pyenv/versions/3.8.2/lib/python3.8/site-packages/pyod/models/base.py:348: UserWarning: y should not be presented in unsupervised learning.\n",
      "  warnings.warn(\n",
      "/Users/marcos/.pyenv/versions/3.8.2/lib/python3.8/site-packages/pyod/models/base.py:348: UserWarning: y should not be presented in unsupervised learning.\n",
      "  warnings.warn(\n",
      "/Users/marcos/.pyenv/versions/3.8.2/lib/python3.8/site-packages/pyod/models/base.py:348: UserWarning: y should not be presented in unsupervised learning.\n",
      "  warnings.warn(\n",
      "/Users/marcos/.pyenv/versions/3.8.2/lib/python3.8/site-packages/pyod/models/base.py:348: UserWarning: y should not be presented in unsupervised learning.\n",
      "  warnings.warn(\n",
      "/Users/marcos/.pyenv/versions/3.8.2/lib/python3.8/site-packages/pyod/models/base.py:348: UserWarning: y should not be presented in unsupervised learning.\n",
      "  warnings.warn(\n",
      "/Users/marcos/.pyenv/versions/3.8.2/lib/python3.8/site-packages/pyod/models/base.py:348: UserWarning: y should not be presented in unsupervised learning.\n",
      "  warnings.warn(\n",
      "/Users/marcos/.pyenv/versions/3.8.2/lib/python3.8/site-packages/pyod/models/base.py:348: UserWarning: y should not be presented in unsupervised learning.\n",
      "  warnings.warn(\n",
      "/Users/marcos/.pyenv/versions/3.8.2/lib/python3.8/site-packages/pyod/models/base.py:348: UserWarning: y should not be presented in unsupervised learning.\n",
      "  warnings.warn(\n",
      "/Users/marcos/.pyenv/versions/3.8.2/lib/python3.8/site-packages/pyod/models/base.py:348: UserWarning: y should not be presented in unsupervised learning.\n",
      "  warnings.warn(\n",
      "/Users/marcos/.pyenv/versions/3.8.2/lib/python3.8/site-packages/pyod/models/base.py:348: UserWarning: y should not be presented in unsupervised learning.\n",
      "  warnings.warn(\n",
      "/Users/marcos/.pyenv/versions/3.8.2/lib/python3.8/site-packages/pyod/models/base.py:348: UserWarning: y should not be presented in unsupervised learning.\n",
      "  warnings.warn(\n",
      "/Users/marcos/.pyenv/versions/3.8.2/lib/python3.8/site-packages/pyod/models/base.py:348: UserWarning: y should not be presented in unsupervised learning.\n",
      "  warnings.warn(\n",
      "/Users/marcos/.pyenv/versions/3.8.2/lib/python3.8/site-packages/pyod/models/base.py:348: UserWarning: y should not be presented in unsupervised learning.\n",
      "  warnings.warn(\n",
      "/Users/marcos/.pyenv/versions/3.8.2/lib/python3.8/site-packages/pyod/models/base.py:348: UserWarning: y should not be presented in unsupervised learning.\n",
      "  warnings.warn(\n",
      "/Users/marcos/.pyenv/versions/3.8.2/lib/python3.8/site-packages/pyod/models/base.py:348: UserWarning: y should not be presented in unsupervised learning.\n",
      "  warnings.warn(\n",
      "/Users/marcos/.pyenv/versions/3.8.2/lib/python3.8/site-packages/pyod/models/base.py:348: UserWarning: y should not be presented in unsupervised learning.\n",
      "  warnings.warn(\n",
      "/Users/marcos/.pyenv/versions/3.8.2/lib/python3.8/site-packages/pyod/models/base.py:348: UserWarning: y should not be presented in unsupervised learning.\n",
      "  warnings.warn(\n",
      "/Users/marcos/.pyenv/versions/3.8.2/lib/python3.8/site-packages/pyod/models/base.py:348: UserWarning: y should not be presented in unsupervised learning.\n",
      "  warnings.warn(\n",
      "/Users/marcos/.pyenv/versions/3.8.2/lib/python3.8/site-packages/pyod/models/base.py:348: UserWarning: y should not be presented in unsupervised learning.\n",
      "  warnings.warn(\n",
      "/Users/marcos/.pyenv/versions/3.8.2/lib/python3.8/site-packages/pyod/models/base.py:348: UserWarning: y should not be presented in unsupervised learning.\n",
      "  warnings.warn(\n",
      "/Users/marcos/.pyenv/versions/3.8.2/lib/python3.8/site-packages/pyod/models/base.py:348: UserWarning: y should not be presented in unsupervised learning.\n",
      "  warnings.warn(\n",
      "/Users/marcos/.pyenv/versions/3.8.2/lib/python3.8/site-packages/pyod/models/base.py:348: UserWarning: y should not be presented in unsupervised learning.\n",
      "  warnings.warn(\n",
      "/Users/marcos/.pyenv/versions/3.8.2/lib/python3.8/site-packages/pyod/models/base.py:348: UserWarning: y should not be presented in unsupervised learning.\n",
      "  warnings.warn(\n",
      "/Users/marcos/.pyenv/versions/3.8.2/lib/python3.8/site-packages/pyod/models/base.py:348: UserWarning: y should not be presented in unsupervised learning.\n",
      "  warnings.warn(\n",
      "/Users/marcos/.pyenv/versions/3.8.2/lib/python3.8/site-packages/pyod/models/base.py:348: UserWarning: y should not be presented in unsupervised learning.\n",
      "  warnings.warn(\n",
      "/Users/marcos/.pyenv/versions/3.8.2/lib/python3.8/site-packages/pyod/models/base.py:348: UserWarning: y should not be presented in unsupervised learning.\n",
      "  warnings.warn(\n",
      "/Users/marcos/.pyenv/versions/3.8.2/lib/python3.8/site-packages/pyod/models/base.py:348: UserWarning: y should not be presented in unsupervised learning.\n",
      "  warnings.warn(\n",
      "/Users/marcos/.pyenv/versions/3.8.2/lib/python3.8/site-packages/scipy/stats/stats.py:3913: PearsonRConstantInputWarning: An input array is constant; the correlation coefficent is not defined.\n",
      "  warnings.warn(PearsonRConstantInputWarning())\n",
      "/Users/marcos/.pyenv/versions/3.8.2/lib/python3.8/site-packages/scipy/stats/stats.py:3943: PearsonRNearConstantInputWarning: An input array is nearly constant; the computed correlation coefficent may be inaccurate.\n",
      "  warnings.warn(PearsonRNearConstantInputWarning())\n",
      "/Users/marcos/.pyenv/versions/3.8.2/lib/python3.8/site-packages/scipy/stats/stats.py:3913: PearsonRConstantInputWarning: An input array is constant; the correlation coefficent is not defined.\n",
      "  warnings.warn(PearsonRConstantInputWarning())\n",
      "/Users/marcos/.pyenv/versions/3.8.2/lib/python3.8/site-packages/pyod/models/base.py:348: UserWarning: y should not be presented in unsupervised learning.\n",
      "  warnings.warn(\n",
      "/Users/marcos/.pyenv/versions/3.8.2/lib/python3.8/site-packages/scipy/stats/stats.py:3913: PearsonRConstantInputWarning: An input array is constant; the correlation coefficent is not defined.\n",
      "  warnings.warn(PearsonRConstantInputWarning())\n",
      "/Users/marcos/.pyenv/versions/3.8.2/lib/python3.8/site-packages/scipy/stats/stats.py:3943: PearsonRNearConstantInputWarning: An input array is nearly constant; the computed correlation coefficent may be inaccurate.\n",
      "  warnings.warn(PearsonRNearConstantInputWarning())\n",
      "/Users/marcos/.pyenv/versions/3.8.2/lib/python3.8/site-packages/scipy/stats/stats.py:3913: PearsonRConstantInputWarning: An input array is constant; the correlation coefficent is not defined.\n",
      "  warnings.warn(PearsonRConstantInputWarning())\n",
      "/Users/marcos/.pyenv/versions/3.8.2/lib/python3.8/site-packages/pyod/models/base.py:348: UserWarning: y should not be presented in unsupervised learning.\n",
      "  warnings.warn(\n",
      "/Users/marcos/.pyenv/versions/3.8.2/lib/python3.8/site-packages/scipy/stats/stats.py:3913: PearsonRConstantInputWarning: An input array is constant; the correlation coefficent is not defined.\n",
      "  warnings.warn(PearsonRConstantInputWarning())\n",
      "/Users/marcos/.pyenv/versions/3.8.2/lib/python3.8/site-packages/scipy/stats/stats.py:3943: PearsonRNearConstantInputWarning: An input array is nearly constant; the computed correlation coefficent may be inaccurate.\n",
      "  warnings.warn(PearsonRNearConstantInputWarning())\n",
      "ERROR:root:Internal Python error in the inspect module.\n",
      "Below is the traceback from this internal error.\n",
      "\n"
     ]
    },
    {
     "name": "stdout",
     "output_type": "stream",
     "text": [
      "Traceback (most recent call last):\n",
      "  File \"/Users/marcos/.pyenv/versions/3.8.2/lib/python3.8/site-packages/IPython/core/interactiveshell.py\", line 3441, in run_code\n",
      "    exec(code_obj, self.user_global_ns, self.user_ns)\n",
      "  File \"<ipython-input-2-e1766982b090>\", line 180, in <module>\n",
      "    selection = model_selection.cross_val_score(model, X_train, np.ravel(y_train), cv = kfold, scoring = 'accuracy')\n",
      "  File \"/Users/marcos/.pyenv/versions/3.8.2/lib/python3.8/site-packages/sklearn/utils/validation.py\", line 63, in inner_f\n",
      "    return f(*args, **kwargs)\n",
      "  File \"/Users/marcos/.pyenv/versions/3.8.2/lib/python3.8/site-packages/sklearn/model_selection/_validation.py\", line 445, in cross_val_score\n",
      "    cv_results = cross_validate(estimator=estimator, X=X, y=y, groups=groups,\n",
      "  File \"/Users/marcos/.pyenv/versions/3.8.2/lib/python3.8/site-packages/sklearn/utils/validation.py\", line 63, in inner_f\n",
      "    return f(*args, **kwargs)\n",
      "  File \"/Users/marcos/.pyenv/versions/3.8.2/lib/python3.8/site-packages/sklearn/model_selection/_validation.py\", line 250, in cross_validate\n",
      "    results = parallel(\n",
      "  File \"/Users/marcos/.pyenv/versions/3.8.2/lib/python3.8/site-packages/joblib/parallel.py\", line 1044, in __call__\n",
      "    while self.dispatch_one_batch(iterator):\n",
      "  File \"/Users/marcos/.pyenv/versions/3.8.2/lib/python3.8/site-packages/joblib/parallel.py\", line 859, in dispatch_one_batch\n",
      "    self._dispatch(tasks)\n",
      "  File \"/Users/marcos/.pyenv/versions/3.8.2/lib/python3.8/site-packages/joblib/parallel.py\", line 777, in _dispatch\n",
      "    job = self._backend.apply_async(batch, callback=cb)\n",
      "  File \"/Users/marcos/.pyenv/versions/3.8.2/lib/python3.8/site-packages/joblib/_parallel_backends.py\", line 208, in apply_async\n",
      "    result = ImmediateResult(func)\n",
      "  File \"/Users/marcos/.pyenv/versions/3.8.2/lib/python3.8/site-packages/joblib/_parallel_backends.py\", line 572, in __init__\n",
      "    self.results = batch()\n",
      "  File \"/Users/marcos/.pyenv/versions/3.8.2/lib/python3.8/site-packages/joblib/parallel.py\", line 262, in __call__\n",
      "    return [func(*args, **kwargs)\n",
      "  File \"/Users/marcos/.pyenv/versions/3.8.2/lib/python3.8/site-packages/joblib/parallel.py\", line 262, in <listcomp>\n",
      "    return [func(*args, **kwargs)\n",
      "  File \"/Users/marcos/.pyenv/versions/3.8.2/lib/python3.8/site-packages/sklearn/utils/fixes.py\", line 222, in __call__\n",
      "    return self.function(*args, **kwargs)\n",
      "  File \"/Users/marcos/.pyenv/versions/3.8.2/lib/python3.8/site-packages/sklearn/model_selection/_validation.py\", line 598, in _fit_and_score\n",
      "    estimator.fit(X_train, y_train, **fit_params)\n",
      "  File \"/Users/marcos/.pyenv/versions/3.8.2/lib/python3.8/site-packages/pyod/models/lscp.py\", line 176, in fit\n",
      "    self.decision_scores_ = self._get_decision_scores(X)\n",
      "  File \"/Users/marcos/.pyenv/versions/3.8.2/lib/python3.8/site-packages/pyod/models/lscp.py\", line 278, in _get_decision_scores\n",
      "    i, self._get_competent_detectors(pearson_corr_scores)])\n",
      "  File \"/Users/marcos/.pyenv/versions/3.8.2/lib/python3.8/site-packages/pyod/models/lscp.py\", line 387, in _get_competent_detectors\n",
      "    hist, bin_edges = np.histogram(scores, bins=self.n_bins)\n",
      "  File \"<__array_function__ internals>\", line 5, in histogram\n",
      "  File \"/Users/marcos/.pyenv/versions/3.8.2/lib/python3.8/site-packages/numpy/lib/histograms.py\", line 851, in histogram\n",
      "    indices = f_indices.astype(np.intp)\n",
      "KeyboardInterrupt\n",
      "\n",
      "During handling of the above exception, another exception occurred:\n",
      "\n",
      "Traceback (most recent call last):\n",
      "  File \"/Users/marcos/.pyenv/versions/3.8.2/lib/python3.8/site-packages/IPython/core/interactiveshell.py\", line 2061, in showtraceback\n",
      "    stb = value._render_traceback_()\n",
      "AttributeError: 'KeyboardInterrupt' object has no attribute '_render_traceback_'\n",
      "\n",
      "During handling of the above exception, another exception occurred:\n",
      "\n",
      "Traceback (most recent call last):\n",
      "  File \"/Users/marcos/.pyenv/versions/3.8.2/lib/python3.8/site-packages/IPython/core/ultratb.py\", line 1101, in get_records\n",
      "    return _fixed_getinnerframes(etb, number_of_lines_of_context, tb_offset)\n",
      "  File \"/Users/marcos/.pyenv/versions/3.8.2/lib/python3.8/site-packages/IPython/core/ultratb.py\", line 248, in wrapped\n",
      "    return f(*args, **kwargs)\n",
      "  File \"/Users/marcos/.pyenv/versions/3.8.2/lib/python3.8/site-packages/IPython/core/ultratb.py\", line 281, in _fixed_getinnerframes\n",
      "    records = fix_frame_records_filenames(inspect.getinnerframes(etb, context))\n",
      "  File \"/Users/marcos/.pyenv/versions/3.8.2/lib/python3.8/inspect.py\", line 1503, in getinnerframes\n",
      "    frameinfo = (tb.tb_frame,) + getframeinfo(tb, context)\n",
      "  File \"/Users/marcos/.pyenv/versions/3.8.2/lib/python3.8/inspect.py\", line 1461, in getframeinfo\n",
      "    filename = getsourcefile(frame) or getfile(frame)\n",
      "  File \"/Users/marcos/.pyenv/versions/3.8.2/lib/python3.8/inspect.py\", line 708, in getsourcefile\n",
      "    if getattr(getmodule(object, filename), '__loader__', None) is not None:\n",
      "  File \"/Users/marcos/.pyenv/versions/3.8.2/lib/python3.8/inspect.py\", line 754, in getmodule\n",
      "    os.path.realpath(f)] = module.__name__\n",
      "  File \"/Users/marcos/.pyenv/versions/3.8.2/lib/python3.8/posixpath.py\", line 391, in realpath\n",
      "    path, ok = _joinrealpath(filename[:0], filename, {})\n",
      "  File \"/Users/marcos/.pyenv/versions/3.8.2/lib/python3.8/posixpath.py\", line 424, in _joinrealpath\n",
      "    newpath = join(path, name)\n",
      "  File \"/Users/marcos/.pyenv/versions/3.8.2/lib/python3.8/posixpath.py\", line 82, in join\n",
      "    for b in map(os.fspath, p):\n",
      "KeyboardInterrupt\n"
     ]
    },
    {
     "name": "stderr",
     "output_type": "stream",
     "text": [
      "ERROR:root:Internal Python error in the inspect module.\n",
      "Below is the traceback from this internal error.\n",
      "\n"
     ]
    },
    {
     "name": "stdout",
     "output_type": "stream",
     "text": [
      "Traceback (most recent call last):\n",
      "  File \"/Users/marcos/.pyenv/versions/3.8.2/lib/python3.8/site-packages/IPython/core/interactiveshell.py\", line 3441, in run_code\n",
      "    exec(code_obj, self.user_global_ns, self.user_ns)\n",
      "  File \"<ipython-input-2-e1766982b090>\", line 180, in <module>\n",
      "    selection = model_selection.cross_val_score(model, X_train, np.ravel(y_train), cv = kfold, scoring = 'accuracy')\n",
      "  File \"/Users/marcos/.pyenv/versions/3.8.2/lib/python3.8/site-packages/sklearn/utils/validation.py\", line 63, in inner_f\n",
      "    return f(*args, **kwargs)\n",
      "  File \"/Users/marcos/.pyenv/versions/3.8.2/lib/python3.8/site-packages/sklearn/model_selection/_validation.py\", line 445, in cross_val_score\n",
      "    cv_results = cross_validate(estimator=estimator, X=X, y=y, groups=groups,\n",
      "  File \"/Users/marcos/.pyenv/versions/3.8.2/lib/python3.8/site-packages/sklearn/utils/validation.py\", line 63, in inner_f\n",
      "    return f(*args, **kwargs)\n",
      "  File \"/Users/marcos/.pyenv/versions/3.8.2/lib/python3.8/site-packages/sklearn/model_selection/_validation.py\", line 250, in cross_validate\n",
      "    results = parallel(\n",
      "  File \"/Users/marcos/.pyenv/versions/3.8.2/lib/python3.8/site-packages/joblib/parallel.py\", line 1044, in __call__\n",
      "    while self.dispatch_one_batch(iterator):\n",
      "  File \"/Users/marcos/.pyenv/versions/3.8.2/lib/python3.8/site-packages/joblib/parallel.py\", line 859, in dispatch_one_batch\n",
      "    self._dispatch(tasks)\n",
      "  File \"/Users/marcos/.pyenv/versions/3.8.2/lib/python3.8/site-packages/joblib/parallel.py\", line 777, in _dispatch\n",
      "    job = self._backend.apply_async(batch, callback=cb)\n",
      "  File \"/Users/marcos/.pyenv/versions/3.8.2/lib/python3.8/site-packages/joblib/_parallel_backends.py\", line 208, in apply_async\n",
      "    result = ImmediateResult(func)\n",
      "  File \"/Users/marcos/.pyenv/versions/3.8.2/lib/python3.8/site-packages/joblib/_parallel_backends.py\", line 572, in __init__\n",
      "    self.results = batch()\n",
      "  File \"/Users/marcos/.pyenv/versions/3.8.2/lib/python3.8/site-packages/joblib/parallel.py\", line 262, in __call__\n",
      "    return [func(*args, **kwargs)\n",
      "  File \"/Users/marcos/.pyenv/versions/3.8.2/lib/python3.8/site-packages/joblib/parallel.py\", line 262, in <listcomp>\n",
      "    return [func(*args, **kwargs)\n",
      "  File \"/Users/marcos/.pyenv/versions/3.8.2/lib/python3.8/site-packages/sklearn/utils/fixes.py\", line 222, in __call__\n",
      "    return self.function(*args, **kwargs)\n",
      "  File \"/Users/marcos/.pyenv/versions/3.8.2/lib/python3.8/site-packages/sklearn/model_selection/_validation.py\", line 598, in _fit_and_score\n",
      "    estimator.fit(X_train, y_train, **fit_params)\n",
      "  File \"/Users/marcos/.pyenv/versions/3.8.2/lib/python3.8/site-packages/pyod/models/lscp.py\", line 176, in fit\n",
      "    self.decision_scores_ = self._get_decision_scores(X)\n",
      "  File \"/Users/marcos/.pyenv/versions/3.8.2/lib/python3.8/site-packages/pyod/models/lscp.py\", line 278, in _get_decision_scores\n",
      "    i, self._get_competent_detectors(pearson_corr_scores)])\n",
      "  File \"/Users/marcos/.pyenv/versions/3.8.2/lib/python3.8/site-packages/pyod/models/lscp.py\", line 387, in _get_competent_detectors\n",
      "    hist, bin_edges = np.histogram(scores, bins=self.n_bins)\n",
      "  File \"<__array_function__ internals>\", line 5, in histogram\n",
      "  File \"/Users/marcos/.pyenv/versions/3.8.2/lib/python3.8/site-packages/numpy/lib/histograms.py\", line 851, in histogram\n",
      "    indices = f_indices.astype(np.intp)\n",
      "KeyboardInterrupt\n",
      "\n",
      "During handling of the above exception, another exception occurred:\n",
      "\n",
      "Traceback (most recent call last):\n",
      "  File \"/Users/marcos/.pyenv/versions/3.8.2/lib/python3.8/site-packages/IPython/core/interactiveshell.py\", line 2061, in showtraceback\n",
      "    stb = value._render_traceback_()\n",
      "AttributeError: 'KeyboardInterrupt' object has no attribute '_render_traceback_'\n",
      "\n",
      "During handling of the above exception, another exception occurred:\n",
      "\n",
      "Traceback (most recent call last):\n",
      "  File \"/Users/marcos/.pyenv/versions/3.8.2/lib/python3.8/site-packages/IPython/core/interactiveshell.py\", line 3361, in run_ast_nodes\n",
      "    if (await self.run_code(code, result,  async_=asy)):\n",
      "  File \"/Users/marcos/.pyenv/versions/3.8.2/lib/python3.8/site-packages/IPython/core/interactiveshell.py\", line 3458, in run_code\n",
      "    self.showtraceback(running_compiled_code=True)\n",
      "  File \"/Users/marcos/.pyenv/versions/3.8.2/lib/python3.8/site-packages/IPython/core/interactiveshell.py\", line 2063, in showtraceback\n",
      "    stb = self.InteractiveTB.structured_traceback(etype,\n",
      "  File \"/Users/marcos/.pyenv/versions/3.8.2/lib/python3.8/site-packages/IPython/core/ultratb.py\", line 1367, in structured_traceback\n",
      "    return FormattedTB.structured_traceback(\n",
      "  File \"/Users/marcos/.pyenv/versions/3.8.2/lib/python3.8/site-packages/IPython/core/ultratb.py\", line 1267, in structured_traceback\n",
      "    return VerboseTB.structured_traceback(\n",
      "  File \"/Users/marcos/.pyenv/versions/3.8.2/lib/python3.8/site-packages/IPython/core/ultratb.py\", line 1124, in structured_traceback\n",
      "    formatted_exception = self.format_exception_as_a_whole(etype, evalue, etb, number_of_lines_of_context,\n",
      "  File \"/Users/marcos/.pyenv/versions/3.8.2/lib/python3.8/site-packages/IPython/core/ultratb.py\", line 1082, in format_exception_as_a_whole\n",
      "    last_unique, recursion_repeat = find_recursion(orig_etype, evalue, records)\n",
      "  File \"/Users/marcos/.pyenv/versions/3.8.2/lib/python3.8/site-packages/IPython/core/ultratb.py\", line 382, in find_recursion\n",
      "    return len(records), 0\n",
      "TypeError: object of type 'NoneType' has no len()\n",
      "\n",
      "During handling of the above exception, another exception occurred:\n",
      "\n",
      "Traceback (most recent call last):\n",
      "  File \"/Users/marcos/.pyenv/versions/3.8.2/lib/python3.8/site-packages/IPython/core/interactiveshell.py\", line 2061, in showtraceback\n",
      "    stb = value._render_traceback_()\n",
      "AttributeError: 'TypeError' object has no attribute '_render_traceback_'\n",
      "\n",
      "During handling of the above exception, another exception occurred:\n",
      "\n",
      "Traceback (most recent call last):\n",
      "  File \"/Users/marcos/.pyenv/versions/3.8.2/lib/python3.8/site-packages/IPython/core/ultratb.py\", line 1101, in get_records\n",
      "    return _fixed_getinnerframes(etb, number_of_lines_of_context, tb_offset)\n",
      "  File \"/Users/marcos/.pyenv/versions/3.8.2/lib/python3.8/site-packages/IPython/core/ultratb.py\", line 248, in wrapped\n",
      "    return f(*args, **kwargs)\n",
      "  File \"/Users/marcos/.pyenv/versions/3.8.2/lib/python3.8/site-packages/IPython/core/ultratb.py\", line 281, in _fixed_getinnerframes\n",
      "    records = fix_frame_records_filenames(inspect.getinnerframes(etb, context))\n",
      "  File \"/Users/marcos/.pyenv/versions/3.8.2/lib/python3.8/inspect.py\", line 1503, in getinnerframes\n",
      "    frameinfo = (tb.tb_frame,) + getframeinfo(tb, context)\n",
      "  File \"/Users/marcos/.pyenv/versions/3.8.2/lib/python3.8/inspect.py\", line 1461, in getframeinfo\n",
      "    filename = getsourcefile(frame) or getfile(frame)\n",
      "  File \"/Users/marcos/.pyenv/versions/3.8.2/lib/python3.8/inspect.py\", line 708, in getsourcefile\n",
      "    if getattr(getmodule(object, filename), '__loader__', None) is not None:\n",
      "  File \"/Users/marcos/.pyenv/versions/3.8.2/lib/python3.8/inspect.py\", line 754, in getmodule\n",
      "    os.path.realpath(f)] = module.__name__\n",
      "  File \"/Users/marcos/.pyenv/versions/3.8.2/lib/python3.8/posixpath.py\", line 391, in realpath\n",
      "    path, ok = _joinrealpath(filename[:0], filename, {})\n",
      "  File \"/Users/marcos/.pyenv/versions/3.8.2/lib/python3.8/posixpath.py\", line 425, in _joinrealpath\n",
      "    if not islink(newpath):\n",
      "  File \"/Users/marcos/.pyenv/versions/3.8.2/lib/python3.8/posixpath.py\", line 167, in islink\n",
      "    st = os.lstat(path)\n",
      "KeyboardInterrupt\n"
     ]
    },
    {
     "name": "stderr",
     "output_type": "stream",
     "text": [
      "ERROR:root:Internal Python error in the inspect module.\n",
      "Below is the traceback from this internal error.\n",
      "\n"
     ]
    },
    {
     "name": "stdout",
     "output_type": "stream",
     "text": [
      "Traceback (most recent call last):\n",
      "  File \"/Users/marcos/.pyenv/versions/3.8.2/lib/python3.8/site-packages/IPython/core/interactiveshell.py\", line 3441, in run_code\n",
      "    exec(code_obj, self.user_global_ns, self.user_ns)\n",
      "  File \"<ipython-input-2-e1766982b090>\", line 180, in <module>\n",
      "    selection = model_selection.cross_val_score(model, X_train, np.ravel(y_train), cv = kfold, scoring = 'accuracy')\n",
      "  File \"/Users/marcos/.pyenv/versions/3.8.2/lib/python3.8/site-packages/sklearn/utils/validation.py\", line 63, in inner_f\n",
      "    return f(*args, **kwargs)\n",
      "  File \"/Users/marcos/.pyenv/versions/3.8.2/lib/python3.8/site-packages/sklearn/model_selection/_validation.py\", line 445, in cross_val_score\n",
      "    cv_results = cross_validate(estimator=estimator, X=X, y=y, groups=groups,\n",
      "  File \"/Users/marcos/.pyenv/versions/3.8.2/lib/python3.8/site-packages/sklearn/utils/validation.py\", line 63, in inner_f\n",
      "    return f(*args, **kwargs)\n",
      "  File \"/Users/marcos/.pyenv/versions/3.8.2/lib/python3.8/site-packages/sklearn/model_selection/_validation.py\", line 250, in cross_validate\n",
      "    results = parallel(\n",
      "  File \"/Users/marcos/.pyenv/versions/3.8.2/lib/python3.8/site-packages/joblib/parallel.py\", line 1044, in __call__\n",
      "    while self.dispatch_one_batch(iterator):\n",
      "  File \"/Users/marcos/.pyenv/versions/3.8.2/lib/python3.8/site-packages/joblib/parallel.py\", line 859, in dispatch_one_batch\n",
      "    self._dispatch(tasks)\n",
      "  File \"/Users/marcos/.pyenv/versions/3.8.2/lib/python3.8/site-packages/joblib/parallel.py\", line 777, in _dispatch\n",
      "    job = self._backend.apply_async(batch, callback=cb)\n",
      "  File \"/Users/marcos/.pyenv/versions/3.8.2/lib/python3.8/site-packages/joblib/_parallel_backends.py\", line 208, in apply_async\n",
      "    result = ImmediateResult(func)\n",
      "  File \"/Users/marcos/.pyenv/versions/3.8.2/lib/python3.8/site-packages/joblib/_parallel_backends.py\", line 572, in __init__\n",
      "    self.results = batch()\n",
      "  File \"/Users/marcos/.pyenv/versions/3.8.2/lib/python3.8/site-packages/joblib/parallel.py\", line 262, in __call__\n",
      "    return [func(*args, **kwargs)\n",
      "  File \"/Users/marcos/.pyenv/versions/3.8.2/lib/python3.8/site-packages/joblib/parallel.py\", line 262, in <listcomp>\n",
      "    return [func(*args, **kwargs)\n",
      "  File \"/Users/marcos/.pyenv/versions/3.8.2/lib/python3.8/site-packages/sklearn/utils/fixes.py\", line 222, in __call__\n",
      "    return self.function(*args, **kwargs)\n",
      "  File \"/Users/marcos/.pyenv/versions/3.8.2/lib/python3.8/site-packages/sklearn/model_selection/_validation.py\", line 598, in _fit_and_score\n",
      "    estimator.fit(X_train, y_train, **fit_params)\n",
      "  File \"/Users/marcos/.pyenv/versions/3.8.2/lib/python3.8/site-packages/pyod/models/lscp.py\", line 176, in fit\n",
      "    self.decision_scores_ = self._get_decision_scores(X)\n",
      "  File \"/Users/marcos/.pyenv/versions/3.8.2/lib/python3.8/site-packages/pyod/models/lscp.py\", line 278, in _get_decision_scores\n",
      "    i, self._get_competent_detectors(pearson_corr_scores)])\n",
      "  File \"/Users/marcos/.pyenv/versions/3.8.2/lib/python3.8/site-packages/pyod/models/lscp.py\", line 387, in _get_competent_detectors\n",
      "    hist, bin_edges = np.histogram(scores, bins=self.n_bins)\n",
      "  File \"<__array_function__ internals>\", line 5, in histogram\n",
      "  File \"/Users/marcos/.pyenv/versions/3.8.2/lib/python3.8/site-packages/numpy/lib/histograms.py\", line 851, in histogram\n",
      "    indices = f_indices.astype(np.intp)\n",
      "KeyboardInterrupt\n",
      "\n",
      "During handling of the above exception, another exception occurred:\n",
      "\n",
      "Traceback (most recent call last):\n",
      "  File \"/Users/marcos/.pyenv/versions/3.8.2/lib/python3.8/site-packages/IPython/core/interactiveshell.py\", line 2061, in showtraceback\n",
      "    stb = value._render_traceback_()\n",
      "AttributeError: 'KeyboardInterrupt' object has no attribute '_render_traceback_'\n",
      "\n",
      "During handling of the above exception, another exception occurred:\n",
      "\n",
      "Traceback (most recent call last):\n",
      "  File \"/Users/marcos/.pyenv/versions/3.8.2/lib/python3.8/site-packages/IPython/core/interactiveshell.py\", line 3361, in run_ast_nodes\n",
      "    if (await self.run_code(code, result,  async_=asy)):\n",
      "  File \"/Users/marcos/.pyenv/versions/3.8.2/lib/python3.8/site-packages/IPython/core/interactiveshell.py\", line 3458, in run_code\n",
      "    self.showtraceback(running_compiled_code=True)\n",
      "  File \"/Users/marcos/.pyenv/versions/3.8.2/lib/python3.8/site-packages/IPython/core/interactiveshell.py\", line 2063, in showtraceback\n",
      "    stb = self.InteractiveTB.structured_traceback(etype,\n",
      "  File \"/Users/marcos/.pyenv/versions/3.8.2/lib/python3.8/site-packages/IPython/core/ultratb.py\", line 1367, in structured_traceback\n",
      "    return FormattedTB.structured_traceback(\n",
      "  File \"/Users/marcos/.pyenv/versions/3.8.2/lib/python3.8/site-packages/IPython/core/ultratb.py\", line 1267, in structured_traceback\n",
      "    return VerboseTB.structured_traceback(\n",
      "  File \"/Users/marcos/.pyenv/versions/3.8.2/lib/python3.8/site-packages/IPython/core/ultratb.py\", line 1124, in structured_traceback\n",
      "    formatted_exception = self.format_exception_as_a_whole(etype, evalue, etb, number_of_lines_of_context,\n",
      "  File \"/Users/marcos/.pyenv/versions/3.8.2/lib/python3.8/site-packages/IPython/core/ultratb.py\", line 1082, in format_exception_as_a_whole\n",
      "    last_unique, recursion_repeat = find_recursion(orig_etype, evalue, records)\n",
      "  File \"/Users/marcos/.pyenv/versions/3.8.2/lib/python3.8/site-packages/IPython/core/ultratb.py\", line 382, in find_recursion\n",
      "    return len(records), 0\n",
      "TypeError: object of type 'NoneType' has no len()\n",
      "\n",
      "During handling of the above exception, another exception occurred:\n",
      "\n",
      "Traceback (most recent call last):\n",
      "  File \"/Users/marcos/.pyenv/versions/3.8.2/lib/python3.8/site-packages/IPython/core/interactiveshell.py\", line 2061, in showtraceback\n",
      "    stb = value._render_traceback_()\n",
      "AttributeError: 'TypeError' object has no attribute '_render_traceback_'\n",
      "\n",
      "During handling of the above exception, another exception occurred:\n",
      "\n",
      "Traceback (most recent call last):\n",
      "  File \"/Users/marcos/.pyenv/versions/3.8.2/lib/python3.8/site-packages/IPython/core/interactiveshell.py\", line 2944, in _run_cell\n",
      "    return runner(coro)\n",
      "  File \"/Users/marcos/.pyenv/versions/3.8.2/lib/python3.8/site-packages/IPython/core/async_helpers.py\", line 68, in _pseudo_sync_runner\n",
      "    coro.send(None)\n",
      "  File \"/Users/marcos/.pyenv/versions/3.8.2/lib/python3.8/site-packages/IPython/core/interactiveshell.py\", line 3169, in run_cell_async\n",
      "    has_raised = await self.run_ast_nodes(code_ast.body, cell_name,\n",
      "  File \"/Users/marcos/.pyenv/versions/3.8.2/lib/python3.8/site-packages/IPython/core/interactiveshell.py\", line 3380, in run_ast_nodes\n",
      "    self.showtraceback()\n",
      "  File \"/Users/marcos/.pyenv/versions/3.8.2/lib/python3.8/site-packages/IPython/core/interactiveshell.py\", line 2063, in showtraceback\n",
      "    stb = self.InteractiveTB.structured_traceback(etype,\n",
      "  File \"/Users/marcos/.pyenv/versions/3.8.2/lib/python3.8/site-packages/IPython/core/ultratb.py\", line 1367, in structured_traceback\n",
      "    return FormattedTB.structured_traceback(\n",
      "  File \"/Users/marcos/.pyenv/versions/3.8.2/lib/python3.8/site-packages/IPython/core/ultratb.py\", line 1267, in structured_traceback\n",
      "    return VerboseTB.structured_traceback(\n",
      "  File \"/Users/marcos/.pyenv/versions/3.8.2/lib/python3.8/site-packages/IPython/core/ultratb.py\", line 1142, in structured_traceback\n",
      "    formatted_exceptions += self.format_exception_as_a_whole(etype, evalue, etb, lines_of_context,\n",
      "  File \"/Users/marcos/.pyenv/versions/3.8.2/lib/python3.8/site-packages/IPython/core/ultratb.py\", line 1082, in format_exception_as_a_whole\n",
      "    last_unique, recursion_repeat = find_recursion(orig_etype, evalue, records)\n",
      "  File \"/Users/marcos/.pyenv/versions/3.8.2/lib/python3.8/site-packages/IPython/core/ultratb.py\", line 382, in find_recursion\n",
      "    return len(records), 0\n",
      "TypeError: object of type 'NoneType' has no len()\n",
      "\n",
      "During handling of the above exception, another exception occurred:\n",
      "\n",
      "Traceback (most recent call last):\n",
      "  File \"/Users/marcos/.pyenv/versions/3.8.2/lib/python3.8/site-packages/IPython/core/interactiveshell.py\", line 2061, in showtraceback\n",
      "    stb = value._render_traceback_()\n",
      "AttributeError: 'TypeError' object has no attribute '_render_traceback_'\n",
      "\n",
      "During handling of the above exception, another exception occurred:\n",
      "\n",
      "Traceback (most recent call last):\n",
      "  File \"/Users/marcos/.pyenv/versions/3.8.2/lib/python3.8/site-packages/IPython/core/ultratb.py\", line 1101, in get_records\n",
      "    return _fixed_getinnerframes(etb, number_of_lines_of_context, tb_offset)\n",
      "  File \"/Users/marcos/.pyenv/versions/3.8.2/lib/python3.8/site-packages/IPython/core/ultratb.py\", line 248, in wrapped\n",
      "    return f(*args, **kwargs)\n",
      "  File \"/Users/marcos/.pyenv/versions/3.8.2/lib/python3.8/site-packages/IPython/core/ultratb.py\", line 281, in _fixed_getinnerframes\n",
      "    records = fix_frame_records_filenames(inspect.getinnerframes(etb, context))\n",
      "  File \"/Users/marcos/.pyenv/versions/3.8.2/lib/python3.8/inspect.py\", line 1503, in getinnerframes\n",
      "    frameinfo = (tb.tb_frame,) + getframeinfo(tb, context)\n",
      "  File \"/Users/marcos/.pyenv/versions/3.8.2/lib/python3.8/inspect.py\", line 1461, in getframeinfo\n",
      "    filename = getsourcefile(frame) or getfile(frame)\n",
      "  File \"/Users/marcos/.pyenv/versions/3.8.2/lib/python3.8/inspect.py\", line 708, in getsourcefile\n",
      "    if getattr(getmodule(object, filename), '__loader__', None) is not None:\n",
      "  File \"/Users/marcos/.pyenv/versions/3.8.2/lib/python3.8/inspect.py\", line 744, in getmodule\n",
      "    for modname, module in list(sys.modules.items()):\n",
      "KeyboardInterrupt\n"
     ]
    }
   ],
   "source": [
    "def plotHistogram(y, data, title, name):\n",
    "    plt.subplots(figsize = (13, 5))\n",
    "    sns.barplot(x = 'Algoritmo', y = y, data = data, palette = 'hot', edgecolor = sns.color_palette('dark', 7))\n",
    "    plt.xticks(rotation = 45)\n",
    "    plt.title(title)\n",
    "    plt.savefig(f'./results/images/histograma-{name}.jpg')\n",
    "    plt.show()\n",
    "\n",
    "random_seed = 42\n",
    "random_state = np.random.RandomState(random_seed)\n",
    "\n",
    "OUTLIERS_FRACTION = 0.125\n",
    "\n",
    "# data\n",
    "features = 9\n",
    "\n",
    "# initialize a set of detectors for LSCP\n",
    "detector_list = [\n",
    "    LOF(n_neighbors = 5), \n",
    "    LOF(n_neighbors = 10), \n",
    "    LOF(n_neighbors = 15),\n",
    "    LOF(n_neighbors = 20), \n",
    "    LOF(n_neighbors = 25), \n",
    "    LOF(n_neighbors = 30),\n",
    "    LOF(n_neighbors = 35), \n",
    "    LOF(n_neighbors = 40), \n",
    "    LOF(n_neighbors = 45),\n",
    "    LOF(n_neighbors = 50)]\n",
    "\n",
    "# NN Layers para AutoEncoders\n",
    "ae_dnn_layers1 = [features, 512, features]\n",
    "display(f'Auto Encoder layers 1: {ae_dnn_layers1}')\n",
    "\n",
    "ae_dnn_layers2 = [features, 1024, features]\n",
    "display(f'Auto Encoder layers 2: {ae_dnn_layers2}')\n",
    "\n",
    "ae_dnn_layers3 = [features, 2048, features]\n",
    "display(f'Auto Encoder layers 3: {ae_dnn_layers3}')\n",
    "\n",
    "vae_enc_dnn_layers1 = [features, 256, 128, 32, features]\n",
    "vae_dec_dnn_layers1 = vae_enc_dnn_layers1[::-1]\n",
    "display(f'Variational Auto Encoder layers 1: {vae_enc_dnn_layers1} / {vae_dec_dnn_layers1}')\n",
    "\n",
    "vae_enc_dnn_layers2 = [features, 512, 256, 128, features]\n",
    "vae_dec_dnn_layers2 = vae_enc_dnn_layers2[::-1]\n",
    "display(f'Variational Auto Encoder layers 2: {vae_enc_dnn_layers2} / {vae_dec_dnn_layers2}')\n",
    "\n",
    "vae_enc_dnn_layers3 = [features, 1024 ,512, 256, features]\n",
    "vae_dec_dnn_layers3 = vae_enc_dnn_layers3[::-1]\n",
    "display(f'Variational Auto Encoder layers 3: {vae_enc_dnn_layers3} / {vae_dec_dnn_layers3}')\n",
    "\n",
    "models = [\n",
    "    ('FB', 'Ensemble', 'Feature Bagging', FeatureBagging(LOF(n_neighbors=35), contamination = OUTLIERS_FRACTION, random_state = random_state, verbose = 0,)),\n",
    "    ('IF', 'Ensemble', 'Isolation Forest', IForest(contamination = OUTLIERS_FRACTION, random_state = random_state, verbose = 0,)),\n",
    "    ('LODA', 'Ensemble', 'Lightweight On-line Detector of Anomalies', LODA(contamination = OUTLIERS_FRACTION,)),\n",
    "    ('LSCP', 'Ensemble', 'Locally Selective Combination of Parallel Outlier Ensembles', LSCP(detector_list, contamination = OUTLIERS_FRACTION, random_state = random_state,)),\n",
    "\n",
    "#     ('LMDD', 'Linear', 'Linear Model Deviation-base Outlier Detection', LMDD(contamination = OUTLIERS_FRACTION, dis_measure = 'var', random_state = random_state,)),\n",
    "#     ('MCD', 'Linear', 'Minimum Covariance Determinant', MCD(contamination = OUTLIERS_FRACTION, random_state = random_state,)),\n",
    "#     ('OCSVM', 'Linear', 'One-class SVM', OCSVM(contamination = OUTLIERS_FRACTION, verbose=False,)),\n",
    "#     ('PCA', 'Linear', 'Principal Component Analysis', PCA(contamination = OUTLIERS_FRACTION, random_state = random_state,)),\n",
    "\n",
    "#     ('ABOD', 'Probabilistico', 'Angle-based Outlier Detector', ABOD(contamination = OUTLIERS_FRACTION,)), # Não consegue fazer o gráfico threshold está maior que Z.max\n",
    "#     ('AKNN', 'Proximidade', 'Average kNN', KNN(method='mean', contamination = OUTLIERS_FRACTION,)),\n",
    "#     ('CBLOF', 'Proximidade', 'Cluster-based Local Outlier Factor', CBLOF(contamination = OUTLIERS_FRACTION, check_estimator=False, random_state = random_state,)),\n",
    "#     ('COF', 'Proximidade', 'Conectivity-based Outlier Factor', COF(contamination = OUTLIERS_FRACTION,)), # Está ignorando n_neighbors, demora muito\n",
    "#     ('COPOD', 'Probabilistico', 'Copula Based Outlier Detector', COPOD(contamination = OUTLIERS_FRACTION,)),\n",
    "#     ('SOS', 'Probabilistico', 'Stochastic Outlier Selection', SOS(contamination = OUTLIERS_FRACTION,)),\n",
    "\n",
    "#     ('HBOS', 'Proximidade', 'Histogram-base Outlier Detection', HBOS(contamination = OUTLIERS_FRACTION,)),\n",
    "#     ('KNN', 'Proximidade', 'k Nearest Neighbors', KNN(contamination = OUTLIERS_FRACTION,)),\n",
    "#     ('LOCI', 'Proximidade', 'Local Correlation Integral', LOCI(contamination = OUTLIERS_FRACTION,)), # Demora muito\n",
    "#     ('LOF', 'Proximidade', 'Local Outlier Factor', LOF(n_neighbors=35, contamination = OUTLIERS_FRACTION,)),\n",
    "#     ('ROD', 'Proximidade', 'Rotation-based Outlier Detector', ROD(contamination = OUTLIERS_FRACTION,)),\n",
    "#     ('SOD', 'Proximidade', 'Subspace Outlier Detection', SOD(contamination = OUTLIERS_FRACTION,)),\n",
    "\n",
    "#     ('AE512', 'Rede Neural', 'Auto Encoder [512]', AutoEncoder(contamination = OUTLIERS_FRACTION, hidden_neurons = ae_dnn_layers1, random_state = random_state, verbose = 0,)),\n",
    "#     ('AE1024', 'Rede Neural', 'Auto Encoder [1024]', AutoEncoder(contamination = OUTLIERS_FRACTION, hidden_neurons = ae_dnn_layers2, random_state = random_state, verbose = 0,)),\n",
    "#     ('AE2048', 'Rede Neural', 'Auto Encoder [2048]', AutoEncoder(contamination = OUTLIERS_FRACTION, hidden_neurons = ae_dnn_layers3, random_state = random_state, verbose = 0,)),\n",
    "#     ('VAE256', 'Rede Neural', 'Variational Auto Encoder [256,128,32]', VAE(encoder_neurons = vae_enc_dnn_layers1, decoder_neurons = vae_dec_dnn_layers1, contamination = OUTLIERS_FRACTION, random_state = random_state, verbose = 0,)),\n",
    "#     ('VAE512', 'Rede Neural', 'Variational Auto Encoder [512,256,128]', VAE(encoder_neurons = vae_enc_dnn_layers2, decoder_neurons = vae_dec_dnn_layers2, contamination = OUTLIERS_FRACTION, random_state = random_state, verbose = 0,)),\n",
    "#     ('VAE1024', 'Rede Neural', 'Variational Auto Encoder [1024,512,256]', VAE(encoder_neurons = vae_enc_dnn_layers3, decoder_neurons = vae_dec_dnn_layers3, contamination = OUTLIERS_FRACTION, random_state = random_state, verbose = 0,)),\n",
    "#     ('MOGAAL', 'Rede Neural', 'Multiple-Objective Generative Adversarial Active Learning', MO_GAAL(contamination = OUTLIERS_FRACTION,)),\n",
    "#     ('SOGAAL', 'Rede Neural', 'Single-Objective Generative Adversarial Active Learning', SO_GAAL(contamination = OUTLIERS_FRACTION,)),\n",
    "]\n",
    "\n",
    "data_sets = [\n",
    "    ('internal-week1'),\n",
    "#     ('internal-week2'),\n",
    "#     ('internal-week3'), # não tem classes variadas (só 1=normal)\n",
    "#     ('internal-week4'), # não tem classes variadas (só 1=normal)\n",
    "\n",
    "#     ('external-week1'),\n",
    "    ('external-week2'),    \n",
    "#     ('external-week3'),\n",
    "#     ('external-week4'),    \n",
    "]\n",
    "\n",
    "row_index = 0\n",
    "for data_set in data_sets:\n",
    "    display(f'{data_set}')\n",
    "    \n",
    "    X_train = pd.read_csv(f'./results/data/CIDDS-001-{data_set}-pre-processed-train-data.csv')\n",
    "    y_train = pd.read_csv(f'./results/data/CIDDS-001-{data_set}-pre-processed-train-class.csv')\n",
    "    X_test = pd.read_csv(f'./results/data/CIDDS-001-{data_set}-pre-processed-test-data.csv')\n",
    "    y_test = pd.read_csv(f'./results/data/CIDDS-001-{data_set}-pre-processed-test-class.csv')\n",
    "    \n",
    "    display('Classe de Treinamento')\n",
    "    display(y_train.value_counts())\n",
    "    display('Classe de Teste')\n",
    "    display(y_test.value_counts())\n",
    "    \n",
    "    compare = pd.DataFrame(columns = [])\n",
    "\n",
    "    for prefix, group, name, model in models:\n",
    "        display(f'{name} - {data_set}')\n",
    "        \n",
    "        model.fit(X_train)\n",
    "        y_pred = model.predict(X_test)\n",
    "        \n",
    "        file = f'./results/reports/CIDDS-001-{data_set}-pos-processed-{prefix}.pkl'\n",
    "        with open(file, \"wb\") as f:\n",
    "            pickle.dump(model, f)\n",
    "            \n",
    "        confusion_matrix = cm(actual_vector = np.squeeze(y_test.values), predict_vector = y_pred)\n",
    "        confusion_matrix.relabel(mapping={0: 'Normal', 1: 'Suspeito'})        \n",
    "        confusion_matrix.save_csv(f'./results/reports/matriz-confusao-{data_set}-{prefix}')\n",
    "        confusion_matrix.plot(cmap = plt.cm.Blues, number_label = True, title = f'Previsões - {name}', plot_lib = 'matplotlib')\n",
    "        plt.savefig(f'./results/images/matriz-confusao-{data_set}-{prefix}.jpg')\n",
    "\n",
    "        fp, tp, th = roc_curve(np.squeeze(y_test.values), y_pred)\n",
    "        compare.loc[row_index, 'Algoritmo'] = name\n",
    "#         compare.loc[row_index, 'Prefixo'] = prefix\n",
    "        compare.loc[row_index, 'Grupo'] = group\n",
    "        compare.loc[row_index, 'Dados'] = data_set\n",
    "        compare.loc[row_index, 'Acurácia'] = confusion_matrix.ACC['Normal']\n",
    "\n",
    "        compare.loc[row_index, 'Precisão'] = confusion_matrix.OP['Normal']\n",
    "\n",
    "        compare.loc[row_index, 'F1 (macro)'] = confusion_matrix.F1_Macro\n",
    "        compare.loc[row_index, 'F1 (micro)'] = confusion_matrix.F1_Micro\n",
    "        \n",
    "        # Two commonly used values for β are 2, which weighs recall higher than precision, \n",
    "        # and 0.5, which weighs recall lower than precision.\n",
    "        compare.loc[row_index, 'Fbeta 2.0 (Normal)'] = confusion_matrix.F_beta(beta = 2.0)['Normal']\n",
    "        compare.loc[row_index, 'Fbeta 2.0 (Suspeito)'] = confusion_matrix.F_beta(beta = 2.0)['Suspeito']\n",
    "        compare.loc[row_index, 'Fbeta 0.5 (Normal)'] = confusion_matrix.F_beta(beta = 0.5)['Normal']\n",
    "        compare.loc[row_index, 'Fbeta 0.5 (Suspeito)'] = confusion_matrix.F_beta(beta = 0.5)['Suspeito']\n",
    "\n",
    "        compare.loc[row_index, 'Recall (Normal)'] = confusion_matrix.TPR['Normal']\n",
    "        compare.loc[row_index, 'Recall (Suspeito)'] = confusion_matrix.TPR['Suspeito']\n",
    "\n",
    "        compare.loc[row_index, 'AUC'] = confusion_matrix.AUC['Normal']\n",
    "        \n",
    "        row_index += 1\n",
    "\n",
    "    plt.show()\n",
    "\n",
    "    for prefix, group, name, model in models:\n",
    "        y_pred = model.fit(X_train, np.ravel(y_train)).predict(X_test)\n",
    "        fp, tp, th = roc_curve(np.squeeze(y_test.values), y_pred)\n",
    "        roc_auc_model = auc(fp, tp)\n",
    "        plt.plot(fp, tp, lw=2, alpha=0.3, label='ROC %s (AUC = %0.4f)'  % (name, roc_auc_model))\n",
    "\n",
    "    plt.title('Curva ROC Comparativa')\n",
    "    plt.legend(bbox_to_anchor = (1.05, 1), loc = 2, borderaxespad = 0.)\n",
    "    plt.plot([0, 1], [0, 1], 'r--')\n",
    "    plt.xlim([0, 1])\n",
    "    plt.ylim([0, 1])\n",
    "    plt.ylabel('Taxa VP')\n",
    "    plt.xlabel('Taxa FP')\n",
    "    plt.savefig(f'./results/images/curva-roc-{MODALIDADE}-{data_set}.jpg')\n",
    "    plt.show()\n",
    "    \n",
    "    results = []\n",
    "    names = []\n",
    "\n",
    "    for prefix, group, name, model in models:\n",
    "        kfold = model_selection.KFold(n_splits = 10)\n",
    "        selection = model_selection.cross_val_score(model, X_train, np.ravel(y_train), cv = kfold, scoring = 'accuracy')\n",
    "        results.append(selection)\n",
    "        names.append(name)\n",
    "        \n",
    "    fig = plt.figure()\n",
    "    fig.suptitle('Comparativo entre Algorítmos')\n",
    "    ax = fig.add_subplot(111)\n",
    "    plt.boxplot(results)\n",
    "    ax.set_xticklabels(names, rotation = 45, ha = 'right')\n",
    "    plt.savefig(f'./results/images/comparativo-{MODALIDADE}-{data_set}.jpg')\n",
    "    plt.show()\n",
    "\n",
    "    compare.sort_values(by = ['Acurácia'], ascending = False, inplace = True) \n",
    "    display(compare)\n",
    "\n",
    "    plotHistogram(y = 'Acurácia', data = compare, title = 'Acurácia das previsões', name = f'{MODALIDADE}-acuracia-{data_set}')\n",
    "    plotHistogram(y = 'Precisão', data = compare, title = 'Precisão das previsões', name = f'{MODALIDADE}-precisao')\n",
    "    plotHistogram(y = 'Recall (Normal)', data = compare, title = 'Recall dos diferentes algoritmos (Normal)', name = f'{MODALIDADE}-recall-inliers-{data_set}')\n",
    "    plotHistogram(y = 'Recall (Suspeito)', data = compare, title = 'Recall dos diferentes algoritmos (Suspeito)', name = f'{MODALIDADE}-recall-outliers-{data_set}')\n",
    "    plotHistogram(y = 'AUC', data = compare, title = 'Comparativo AUC', name = f'{MODALIDADE}-auc')\n",
    "    \n",
    "    compare.to_latex(f'./results/reports/comparativo-{MODALIDADE}-{data_set}.tex', index = False)\n",
    "    compare.to_csv(f'./results/reports/comparativo-{MODALIDADE}-{data_set}.csv', index = False)"
   ]
  },
  {
   "cell_type": "markdown",
   "metadata": {
    "tags": []
   },
   "source": [
    "> End"
   ]
  }
 ],
 "metadata": {
  "colab": {
   "collapsed_sections": [],
   "name": "Anomaly Detection for Dummies.ipynb",
   "provenance": [],
   "version": "0.3.2"
  },
  "kernelspec": {
   "display_name": "Python 3",
   "language": "python",
   "name": "python3"
  },
  "language_info": {
   "codemirror_mode": {
    "name": "ipython",
    "version": 3
   },
   "file_extension": ".py",
   "mimetype": "text/x-python",
   "name": "python",
   "nbconvert_exporter": "python",
   "pygments_lexer": "ipython3",
   "version": "3.8.2"
  }
 },
 "nbformat": 4,
 "nbformat_minor": 4
}
